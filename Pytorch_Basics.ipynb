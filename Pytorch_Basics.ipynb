{
  "nbformat": 4,
  "nbformat_minor": 0,
  "metadata": {
    "colab": {
      "name": "Pytorch Basics.ipynb",
      "provenance": [],
      "collapsed_sections": [],
      "authorship_tag": "ABX9TyPBdXnZqvZn2pe5l+lgaS13",
      "include_colab_link": true
    },
    "kernelspec": {
      "name": "python3",
      "display_name": "Python 3"
    }
  },
  "cells": [
    {
      "cell_type": "markdown",
      "metadata": {
        "id": "view-in-github",
        "colab_type": "text"
      },
      "source": [
        "<a href=\"https://colab.research.google.com/github/namanmanchanda09/pytorch-basics/blob/main/Pytorch_Basics.ipynb\" target=\"_parent\"><img src=\"https://colab.research.google.com/assets/colab-badge.svg\" alt=\"Open In Colab\"/></a>"
      ]
    },
    {
      "cell_type": "code",
      "metadata": {
        "id": "Dc4ie7VksxRy"
      },
      "source": [
        "import torch \n",
        "import numpy as np"
      ],
      "execution_count": null,
      "outputs": []
    },
    {
      "cell_type": "code",
      "metadata": {
        "colab": {
          "base_uri": "https://localhost:8080/"
        },
        "id": "sF8zmbGRs0y1",
        "outputId": "105ff10f-5329-4d1a-9296-5fc8c697f28a"
      },
      "source": [
        "print(torch.__version__)"
      ],
      "execution_count": null,
      "outputs": [
        {
          "output_type": "stream",
          "text": [
            "1.7.0+cu101\n"
          ],
          "name": "stdout"
        }
      ]
    },
    {
      "cell_type": "markdown",
      "metadata": {
        "id": "nlKhYpFB3RB7"
      },
      "source": [
        "# Tensors from Numpy Arrays"
      ]
    },
    {
      "cell_type": "code",
      "metadata": {
        "colab": {
          "base_uri": "https://localhost:8080/"
        },
        "id": "uagH8hrIs44Y",
        "outputId": "1f4e4134-c537-4b40-f516-29cad52a2bdf"
      },
      "source": [
        "# declaring numpy array\n",
        "arr = np.array([1,2,3,4,5,])\n",
        "print(arr)\n",
        "print(arr.dtype)\n",
        "type(arr)"
      ],
      "execution_count": null,
      "outputs": [
        {
          "output_type": "stream",
          "text": [
            "[1 2 3 4 5]\n",
            "int64\n"
          ],
          "name": "stdout"
        },
        {
          "output_type": "execute_result",
          "data": {
            "text/plain": [
              "numpy.ndarray"
            ]
          },
          "metadata": {
            "tags": []
          },
          "execution_count": 5
        }
      ]
    },
    {
      "cell_type": "code",
      "metadata": {
        "colab": {
          "base_uri": "https://localhost:8080/"
        },
        "id": "e4xeh_EbtG1N",
        "outputId": "68279e3c-52e0-472c-943a-8d186ce00247"
      },
      "source": [
        "# numpy array to tensor\n",
        "x = torch.from_numpy(arr)\n",
        "print(x.dtype)\n",
        "print(x)\n",
        "type(x)"
      ],
      "execution_count": null,
      "outputs": [
        {
          "output_type": "stream",
          "text": [
            "torch.int64\n",
            "tensor([1, 2, 3, 4, 5])\n"
          ],
          "name": "stdout"
        },
        {
          "output_type": "execute_result",
          "data": {
            "text/plain": [
              "torch.Tensor"
            ]
          },
          "metadata": {
            "tags": []
          },
          "execution_count": 6
        }
      ]
    },
    {
      "cell_type": "code",
      "metadata": {
        "colab": {
          "base_uri": "https://localhost:8080/"
        },
        "id": "fL_Hpb-etcg6",
        "outputId": "4c22cf8a-dcaf-484e-fc1d-cda4f7a063b7"
      },
      "source": [
        "# general way to convert into tensor\n",
        "torch.as_tensor(arr)"
      ],
      "execution_count": null,
      "outputs": [
        {
          "output_type": "execute_result",
          "data": {
            "text/plain": [
              "tensor([1, 2, 3, 4, 5])"
            ]
          },
          "metadata": {
            "tags": []
          },
          "execution_count": 7
        }
      ]
    },
    {
      "cell_type": "code",
      "metadata": {
        "colab": {
          "base_uri": "https://localhost:8080/"
        },
        "id": "XwlYM7HMtzwy",
        "outputId": "38f6256b-2fdc-48d9-e4ae-db5531caff0f"
      },
      "source": [
        "arr2d = np.arange(0.0,12.0)\n",
        "arr2d = arr2d.reshape(4,3)\n",
        "x2 = torch.from_numpy(arr2d)\n",
        "x2"
      ],
      "execution_count": null,
      "outputs": [
        {
          "output_type": "execute_result",
          "data": {
            "text/plain": [
              "tensor([[ 0.,  1.,  2.],\n",
              "        [ 3.,  4.,  5.],\n",
              "        [ 6.,  7.,  8.],\n",
              "        [ 9., 10., 11.]], dtype=torch.float64)"
            ]
          },
          "metadata": {
            "tags": []
          },
          "execution_count": 8
        }
      ]
    },
    {
      "cell_type": "code",
      "metadata": {
        "colab": {
          "base_uri": "https://localhost:8080/"
        },
        "id": "a6wyheWuuiED",
        "outputId": "71645fc7-71d2-4172-db37-46ae5d7af899"
      },
      "source": [
        "# from_numpy creates a direct link between numpy array and tensor\n",
        "arr = np.array([1,2,3,4,5])\n",
        "x = torch.from_numpy(arr)\n",
        "print(x)\n",
        "arr[0] = 99\n",
        "print(x)"
      ],
      "execution_count": null,
      "outputs": [
        {
          "output_type": "stream",
          "text": [
            "tensor([1, 2, 3, 4, 5])\n",
            "tensor([99,  2,  3,  4,  5])\n"
          ],
          "name": "stdout"
        }
      ]
    },
    {
      "cell_type": "code",
      "metadata": {
        "colab": {
          "base_uri": "https://localhost:8080/"
        },
        "id": "yKdKDC_kAi1O",
        "outputId": "c4cd7af8-f2f9-4bce-8440-b62e9e29184a"
      },
      "source": [
        "# torch.Tensor or torch.FloatTensor creates a tensor of type float & torch.tensor infers the datatype from original object\n",
        "arr = np.array([1,2,3,4,5])\n",
        "x = torch.tensor(arr)\n",
        "y = torch.Tensor(arr)\n",
        "print(x.dtype)\n",
        "print(y.dtype)\n",
        "print(x)\n",
        "print(y)"
      ],
      "execution_count": null,
      "outputs": [
        {
          "output_type": "stream",
          "text": [
            "torch.int64\n",
            "torch.float32\n",
            "tensor([1, 2, 3, 4, 5])\n",
            "tensor([1., 2., 3., 4., 5.])\n"
          ],
          "name": "stdout"
        }
      ]
    },
    {
      "cell_type": "code",
      "metadata": {
        "colab": {
          "base_uri": "https://localhost:8080/"
        },
        "id": "XNHHGhp4vmWD",
        "outputId": "032a4f11-f5bb-4251-9344-6e0e59460416"
      },
      "source": [
        "# Creating a tensor as a copy of numpy array\n",
        "my_arr = np.arange(0,10)\n",
        "print(\"Numpy array :\" ,my_arr)\n",
        "my_tensor = torch.tensor(my_arr)\n",
        "print(\"Tensor :\", my_tensor)\n",
        "my_arr[0] = 99\n",
        "print(\"Modified numpy array :\", my_arr)\n",
        "print(\"Tensor :\", my_tensor) "
      ],
      "execution_count": null,
      "outputs": [
        {
          "output_type": "stream",
          "text": [
            "Numpy array : [0 1 2 3 4 5 6 7 8 9]\n",
            "Tensor : tensor([0, 1, 2, 3, 4, 5, 6, 7, 8, 9])\n",
            "Modified numpy array : [99  1  2  3  4  5  6  7  8  9]\n",
            "Tensor : tensor([0, 1, 2, 3, 4, 5, 6, 7, 8, 9])\n"
          ],
          "name": "stdout"
        }
      ]
    },
    {
      "cell_type": "markdown",
      "metadata": {
        "id": "hA6BfSSc3Xpy"
      },
      "source": [
        "# Tensors from scratch"
      ]
    },
    {
      "cell_type": "code",
      "metadata": {
        "colab": {
          "base_uri": "https://localhost:8080/"
        },
        "id": "r4v4fCBp3aYI",
        "outputId": "05d5776c-6081-4dfc-f5ba-47214d980475"
      },
      "source": [
        "# allocated space in memory for a tensor\n",
        "torch.empty(4,2)"
      ],
      "execution_count": null,
      "outputs": [
        {
          "output_type": "execute_result",
          "data": {
            "text/plain": [
              "tensor([[8.4087e-36, 0.0000e+00],\n",
              "        [3.3631e-44, 0.0000e+00],\n",
              "        [       nan, 0.0000e+00],\n",
              "        [1.1578e+27, 1.1362e+30]])"
            ]
          },
          "metadata": {
            "tags": []
          },
          "execution_count": 12
        }
      ]
    },
    {
      "cell_type": "code",
      "metadata": {
        "colab": {
          "base_uri": "https://localhost:8080/"
        },
        "id": "b7UWRNIGCEOj",
        "outputId": "12407de2-3630-4e69-fa34-4649f7c596c1"
      },
      "source": [
        "# tensor of zeros\n",
        "torch.zeros(4,3)"
      ],
      "execution_count": null,
      "outputs": [
        {
          "output_type": "execute_result",
          "data": {
            "text/plain": [
              "tensor([[0., 0., 0.],\n",
              "        [0., 0., 0.],\n",
              "        [0., 0., 0.],\n",
              "        [0., 0., 0.]])"
            ]
          },
          "metadata": {
            "tags": []
          },
          "execution_count": 13
        }
      ]
    },
    {
      "cell_type": "code",
      "metadata": {
        "colab": {
          "base_uri": "https://localhost:8080/"
        },
        "id": "a7oidu6fCNlc",
        "outputId": "b515939e-0c38-4d1d-c255-5fc0ea1b18c0"
      },
      "source": [
        "# tensor of ones\n",
        "torch.ones(3,4)"
      ],
      "execution_count": null,
      "outputs": [
        {
          "output_type": "execute_result",
          "data": {
            "text/plain": [
              "tensor([[1., 1., 1., 1.],\n",
              "        [1., 1., 1., 1.],\n",
              "        [1., 1., 1., 1.]])"
            ]
          },
          "metadata": {
            "tags": []
          },
          "execution_count": 14
        }
      ]
    },
    {
      "cell_type": "code",
      "metadata": {
        "colab": {
          "base_uri": "https://localhost:8080/"
        },
        "id": "MZI8c0rHCfGe",
        "outputId": "30c0289d-dd6d-489f-e7ce-febdb9967fbe"
      },
      "source": [
        "# same function as numpy\n",
        "torch.arange(0,18,2).reshape(3,3)"
      ],
      "execution_count": null,
      "outputs": [
        {
          "output_type": "execute_result",
          "data": {
            "text/plain": [
              "tensor([[ 0,  2,  4],\n",
              "        [ 6,  8, 10],\n",
              "        [12, 14, 16]])"
            ]
          },
          "metadata": {
            "tags": []
          },
          "execution_count": 15
        }
      ]
    },
    {
      "cell_type": "code",
      "metadata": {
        "colab": {
          "base_uri": "https://localhost:8080/"
        },
        "id": "qgTLCsnXClSr",
        "outputId": "b1c477f2-43de-4fda-fdef-ae48264a3165"
      },
      "source": [
        "# same function as numpy\n",
        "torch.linspace(0,18,12).reshape(4,3)"
      ],
      "execution_count": null,
      "outputs": [
        {
          "output_type": "execute_result",
          "data": {
            "text/plain": [
              "tensor([[ 0.0000,  1.6364,  3.2727],\n",
              "        [ 4.9091,  6.5455,  8.1818],\n",
              "        [ 9.8182, 11.4545, 13.0909],\n",
              "        [14.7273, 16.3636, 18.0000]])"
            ]
          },
          "metadata": {
            "tags": []
          },
          "execution_count": 16
        }
      ]
    },
    {
      "cell_type": "code",
      "metadata": {
        "colab": {
          "base_uri": "https://localhost:8080/"
        },
        "id": "aj-JY8gYCtNP",
        "outputId": "f42c3fea-7f8f-4fc5-e522-5d2441ce0601"
      },
      "source": [
        "# python list to tensor\n",
        "my_tensor = torch.tensor([1,2,3])\n",
        "print(my_tensor)\n",
        "my_tensor.dtype"
      ],
      "execution_count": null,
      "outputs": [
        {
          "output_type": "stream",
          "text": [
            "tensor([1, 2, 3])\n"
          ],
          "name": "stdout"
        },
        {
          "output_type": "execute_result",
          "data": {
            "text/plain": [
              "torch.int64"
            ]
          },
          "metadata": {
            "tags": []
          },
          "execution_count": 17
        }
      ]
    },
    {
      "cell_type": "code",
      "metadata": {
        "colab": {
          "base_uri": "https://localhost:8080/"
        },
        "id": "1DVz2mN6C5qB",
        "outputId": "006d976e-b5e4-4750-8394-417d7733f66e"
      },
      "source": [
        "my_tensor = my_tensor.type(torch.int32)\n",
        "print(my_tensor)\n",
        "my_tensor.dtype"
      ],
      "execution_count": null,
      "outputs": [
        {
          "output_type": "stream",
          "text": [
            "tensor([1, 2, 3], dtype=torch.int32)\n"
          ],
          "name": "stdout"
        },
        {
          "output_type": "execute_result",
          "data": {
            "text/plain": [
              "torch.int32"
            ]
          },
          "metadata": {
            "tags": []
          },
          "execution_count": 18
        }
      ]
    },
    {
      "cell_type": "code",
      "metadata": {
        "colab": {
          "base_uri": "https://localhost:8080/"
        },
        "id": "HFyDgydoDV8o",
        "outputId": "9f841be1-b6f1-47b4-90f5-09d41049cacc"
      },
      "source": [
        "# random number from uniform distribution\n",
        "torch.rand(4,3)"
      ],
      "execution_count": null,
      "outputs": [
        {
          "output_type": "execute_result",
          "data": {
            "text/plain": [
              "tensor([[0.9818, 0.7321, 0.4635],\n",
              "        [0.0771, 0.5712, 0.4034],\n",
              "        [0.5615, 0.5102, 0.7191],\n",
              "        [0.4294, 0.9525, 0.2274]])"
            ]
          },
          "metadata": {
            "tags": []
          },
          "execution_count": 19
        }
      ]
    },
    {
      "cell_type": "code",
      "metadata": {
        "colab": {
          "base_uri": "https://localhost:8080/"
        },
        "id": "291FKJ1-O0a9",
        "outputId": "4a724d1f-52d3-49af-a248-807a0bc4c3ea"
      },
      "source": [
        "# random number from standard normal uniform distribution - mean 0 and standard deviation 1\n",
        "torch.randn(4,3)"
      ],
      "execution_count": null,
      "outputs": [
        {
          "output_type": "execute_result",
          "data": {
            "text/plain": [
              "tensor([[-1.3185,  0.0861,  0.8723],\n",
              "        [-0.6660,  1.4159, -0.4158],\n",
              "        [ 0.8827, -0.1727,  1.4072],\n",
              "        [-0.8261, -1.8555, -0.5035]])"
            ]
          },
          "metadata": {
            "tags": []
          },
          "execution_count": 20
        }
      ]
    },
    {
      "cell_type": "code",
      "metadata": {
        "colab": {
          "base_uri": "https://localhost:8080/"
        },
        "id": "ctPKgHMCO4xI",
        "outputId": "250672ac-bd05-4079-844e-b9cf665ea498"
      },
      "source": [
        "torch.randint(low=0,high=10,size=(5,5))"
      ],
      "execution_count": null,
      "outputs": [
        {
          "output_type": "execute_result",
          "data": {
            "text/plain": [
              "tensor([[7, 8, 1, 9, 4],\n",
              "        [8, 9, 4, 2, 1],\n",
              "        [2, 1, 0, 6, 3],\n",
              "        [7, 4, 7, 0, 7],\n",
              "        [8, 8, 6, 9, 1]])"
            ]
          },
          "metadata": {
            "tags": []
          },
          "execution_count": 21
        }
      ]
    },
    {
      "cell_type": "code",
      "metadata": {
        "colab": {
          "base_uri": "https://localhost:8080/"
        },
        "id": "pfcz-Y6nPhnR",
        "outputId": "da67d670-74f9-430e-bf77-e1f7bca71e3f"
      },
      "source": [
        "# random tensor with the same shape as incoming tensor\n",
        "x = torch.zeros(2,5)\n",
        "print(x.shape)\n",
        "torch.rand_like(x)"
      ],
      "execution_count": null,
      "outputs": [
        {
          "output_type": "stream",
          "text": [
            "torch.Size([2, 5])\n"
          ],
          "name": "stdout"
        },
        {
          "output_type": "execute_result",
          "data": {
            "text/plain": [
              "tensor([[0.7168, 0.2406, 0.4293, 0.1874, 0.1402],\n",
              "        [0.9634, 0.8160, 0.5423, 0.1882, 0.5113]])"
            ]
          },
          "metadata": {
            "tags": []
          },
          "execution_count": 22
        }
      ]
    },
    {
      "cell_type": "code",
      "metadata": {
        "colab": {
          "base_uri": "https://localhost:8080/"
        },
        "id": "F-vv1yvxc9bS",
        "outputId": "7c5128a0-5eff-4d96-d715-fdaeb688d849"
      },
      "source": [
        "torch.randn_like(x)"
      ],
      "execution_count": null,
      "outputs": [
        {
          "output_type": "execute_result",
          "data": {
            "text/plain": [
              "tensor([[-0.0278,  0.0033, -0.8479, -0.6437,  0.7324],\n",
              "        [ 0.5822, -0.1114, -2.3446,  0.0071, -0.2544]])"
            ]
          },
          "metadata": {
            "tags": []
          },
          "execution_count": 23
        }
      ]
    },
    {
      "cell_type": "code",
      "metadata": {
        "colab": {
          "base_uri": "https://localhost:8080/"
        },
        "id": "xq1J0l6PejV5",
        "outputId": "a40f8a15-2cdb-440f-f651-534eb8157665"
      },
      "source": [
        "torch.randint_like(x,low=0,high=11)"
      ],
      "execution_count": null,
      "outputs": [
        {
          "output_type": "execute_result",
          "data": {
            "text/plain": [
              "tensor([[ 0.,  0.,  4., 10., 10.],\n",
              "        [ 7.,  3.,  3.,  9.,  6.]])"
            ]
          },
          "metadata": {
            "tags": []
          },
          "execution_count": 24
        }
      ]
    },
    {
      "cell_type": "code",
      "metadata": {
        "colab": {
          "base_uri": "https://localhost:8080/"
        },
        "id": "NGomVPK5g5n7",
        "outputId": "4f430d3a-0561-455d-9192-f1a31a150d2b"
      },
      "source": [
        "# setting seed valye\n",
        "torch.manual_seed(42)\n",
        "torch.rand(2,3)"
      ],
      "execution_count": null,
      "outputs": [
        {
          "output_type": "execute_result",
          "data": {
            "text/plain": [
              "tensor([[0.8823, 0.9150, 0.3829],\n",
              "        [0.9593, 0.3904, 0.6009]])"
            ]
          },
          "metadata": {
            "tags": []
          },
          "execution_count": 25
        }
      ]
    },
    {
      "cell_type": "markdown",
      "metadata": {
        "id": "ahZeyyECllff"
      },
      "source": [
        "# Tensor Operations"
      ]
    },
    {
      "cell_type": "code",
      "metadata": {
        "colab": {
          "base_uri": "https://localhost:8080/"
        },
        "id": "ocyFSiUmlnSE",
        "outputId": "9b511da4-0092-4b4c-9365-0080fa1b6dd5"
      },
      "source": [
        "x = torch.arange(6).reshape(3,2)\n",
        "x"
      ],
      "execution_count": null,
      "outputs": [
        {
          "output_type": "execute_result",
          "data": {
            "text/plain": [
              "tensor([[0, 1],\n",
              "        [2, 3],\n",
              "        [4, 5]])"
            ]
          },
          "metadata": {
            "tags": []
          },
          "execution_count": 26
        }
      ]
    },
    {
      "cell_type": "code",
      "metadata": {
        "id": "_02xFfEgl7aH",
        "colab": {
          "base_uri": "https://localhost:8080/"
        },
        "outputId": "54540320-a8e9-4e6e-e84d-875fcafbcbc7"
      },
      "source": [
        "# indexing a tensor\n",
        "print(x[1,1])\n",
        "type(x[1,1])"
      ],
      "execution_count": null,
      "outputs": [
        {
          "output_type": "stream",
          "text": [
            "tensor(3)\n"
          ],
          "name": "stdout"
        },
        {
          "output_type": "execute_result",
          "data": {
            "text/plain": [
              "torch.Tensor"
            ]
          },
          "metadata": {
            "tags": []
          },
          "execution_count": 29
        }
      ]
    },
    {
      "cell_type": "code",
      "metadata": {
        "colab": {
          "base_uri": "https://localhost:8080/"
        },
        "id": "BU5ALbmeg70-",
        "outputId": "57d5f0bc-2eb4-48d0-bc89-e53903df1c8d"
      },
      "source": [
        "print(x[:, 1])\n",
        "print(x[:, 1:])"
      ],
      "execution_count": null,
      "outputs": [
        {
          "output_type": "stream",
          "text": [
            "tensor([1, 3, 5])\n",
            "tensor([[1],\n",
            "        [3],\n",
            "        [5]])\n"
          ],
          "name": "stdout"
        }
      ]
    },
    {
      "cell_type": "code",
      "metadata": {
        "colab": {
          "base_uri": "https://localhost:8080/"
        },
        "id": "gtgm3U2nhldy",
        "outputId": "24bc3570-f798-4c10-de48-ff08b6822e63"
      },
      "source": [
        "x = torch.arange(10)\n",
        "print(x)"
      ],
      "execution_count": null,
      "outputs": [
        {
          "output_type": "stream",
          "text": [
            "tensor([0, 1, 2, 3, 4, 5, 6, 7, 8, 9])\n"
          ],
          "name": "stdout"
        }
      ]
    },
    {
      "cell_type": "code",
      "metadata": {
        "colab": {
          "base_uri": "https://localhost:8080/"
        },
        "id": "0QeaKKYxjOd7",
        "outputId": "b45fc906-543f-4547-840e-4b0be3867477"
      },
      "source": [
        "# reshape and view\n",
        "print(x.view(2,5))\n",
        "print(x)\n",
        "print(x.reshape(2,5))\n",
        "print(x)"
      ],
      "execution_count": null,
      "outputs": [
        {
          "output_type": "stream",
          "text": [
            "tensor([[0, 1, 2, 3, 4],\n",
            "        [5, 6, 7, 8, 9]])\n",
            "tensor([0, 1, 2, 3, 4, 5, 6, 7, 8, 9])\n",
            "tensor([[0, 1, 2, 3, 4],\n",
            "        [5, 6, 7, 8, 9]])\n",
            "tensor([0, 1, 2, 3, 4, 5, 6, 7, 8, 9])\n"
          ],
          "name": "stdout"
        }
      ]
    },
    {
      "cell_type": "code",
      "metadata": {
        "colab": {
          "base_uri": "https://localhost:8080/"
        },
        "id": "fB1mtdzRjV_D",
        "outputId": "f0c51c96-c754-45b2-a2f7-b52de4a93d20"
      },
      "source": [
        "x = torch.arange(10)\n",
        "print(x.shape)"
      ],
      "execution_count": null,
      "outputs": [
        {
          "output_type": "stream",
          "text": [
            "torch.Size([10])\n"
          ],
          "name": "stdout"
        }
      ]
    },
    {
      "cell_type": "code",
      "metadata": {
        "colab": {
          "base_uri": "https://localhost:8080/"
        },
        "id": "ZqLxFJk-jcKi",
        "outputId": "ada20a29-88b4-4c60-f9bd-6f51c18fe223"
      },
      "source": [
        "# letting PyTorch infer the shape\n",
        "z = x.view(2,-1)\n",
        "print(z)\n",
        "z = x.view(-1,5)\n",
        "print(z)"
      ],
      "execution_count": null,
      "outputs": [
        {
          "output_type": "stream",
          "text": [
            "tensor([[0, 1, 2, 3, 4],\n",
            "        [5, 6, 7, 8, 9]])\n",
            "tensor([[0, 1, 2, 3, 4],\n",
            "        [5, 6, 7, 8, 9]])\n"
          ],
          "name": "stdout"
        }
      ]
    },
    {
      "cell_type": "markdown",
      "metadata": {
        "id": "RCB3cutbkhnh"
      },
      "source": [
        "# Tensor arithmetic"
      ]
    },
    {
      "cell_type": "code",
      "metadata": {
        "colab": {
          "base_uri": "https://localhost:8080/"
        },
        "id": "3nvtoIUhkjh-",
        "outputId": "b24e7e39-d367-4aca-8874-3353f354d46d"
      },
      "source": [
        "a = torch.tensor([1.,2.,3.])\n",
        "b = torch.tensor([4.,5.,6.])\n",
        "print(a)\n",
        "print(b)\n",
        "print(a.dtype)\n",
        "print(b.dtype)"
      ],
      "execution_count": null,
      "outputs": [
        {
          "output_type": "stream",
          "text": [
            "tensor([1., 2., 3.])\n",
            "tensor([4., 5., 6.])\n",
            "torch.float32\n",
            "torch.float32\n"
          ],
          "name": "stdout"
        }
      ]
    },
    {
      "cell_type": "code",
      "metadata": {
        "colab": {
          "base_uri": "https://localhost:8080/"
        },
        "id": "yigNE7aQkuNW",
        "outputId": "ee692933-b438-451f-8439-b45541f3465d"
      },
      "source": [
        "print(a+b)\n",
        "print(torch.add(a,b))"
      ],
      "execution_count": null,
      "outputs": [
        {
          "output_type": "stream",
          "text": [
            "tensor([5., 7., 9.])\n",
            "tensor([5., 7., 9.])\n"
          ],
          "name": "stdout"
        }
      ]
    },
    {
      "cell_type": "code",
      "metadata": {
        "colab": {
          "base_uri": "https://localhost:8080/"
        },
        "id": "2mf6EyJglnlB",
        "outputId": "b6b8e001-8aa9-41aa-8e2d-6493f79b1907"
      },
      "source": [
        "# changing tensor in place - use (add_)\n",
        "a.add(b)\n",
        "print(a)\n",
        "print(a.add_(b))\n",
        "print(a)"
      ],
      "execution_count": null,
      "outputs": [
        {
          "output_type": "stream",
          "text": [
            "tensor([1., 2., 3.])\n",
            "tensor([5., 7., 9.])\n",
            "tensor([5., 7., 9.])\n"
          ],
          "name": "stdout"
        }
      ]
    },
    {
      "cell_type": "code",
      "metadata": {
        "colab": {
          "base_uri": "https://localhost:8080/"
        },
        "id": "uwCr1D3Fl-_d",
        "outputId": "44ee55e5-8441-45b6-86cf-c0bcfbaf5605"
      },
      "source": [
        "a = torch.arange(start = 1, end = 4, dtype=torch.float32)\n",
        "b = torch.arange(start = 4, end = 7, dtype=torch.float32)\n",
        "print(a)\n",
        "print(b)"
      ],
      "execution_count": null,
      "outputs": [
        {
          "output_type": "stream",
          "text": [
            "tensor([1., 2., 3.])\n",
            "tensor([4., 5., 6.])\n"
          ],
          "name": "stdout"
        }
      ]
    },
    {
      "cell_type": "code",
      "metadata": {
        "colab": {
          "base_uri": "https://localhost:8080/"
        },
        "id": "o47H_RTkrmlx",
        "outputId": "71376e78-b884-4861-fceb-3b5f15000349"
      },
      "source": [
        "# dot product of 2 tensors\n",
        "a.dot(b)"
      ],
      "execution_count": null,
      "outputs": [
        {
          "output_type": "execute_result",
          "data": {
            "text/plain": [
              "tensor(32.)"
            ]
          },
          "metadata": {
            "tags": []
          },
          "execution_count": 55
        }
      ]
    },
    {
      "cell_type": "code",
      "metadata": {
        "colab": {
          "base_uri": "https://localhost:8080/"
        },
        "id": "QJho1jxSr8Qw",
        "outputId": "96f15a28-1225-4502-cfb2-ec03efad0842"
      },
      "source": [
        "# cross product \n",
        "a = torch.tensor([[0,2,4],[1,3,5]])\n",
        "b = torch.tensor([[6,7],[8,9],[10,11]])\n",
        "print(a)\n",
        "print(b)\n",
        "print(a.shape)\n",
        "print(b.shape)"
      ],
      "execution_count": null,
      "outputs": [
        {
          "output_type": "stream",
          "text": [
            "tensor([[0, 2, 4],\n",
            "        [1, 3, 5]])\n",
            "tensor([[ 6,  7],\n",
            "        [ 8,  9],\n",
            "        [10, 11]])\n",
            "torch.Size([2, 3])\n",
            "torch.Size([3, 2])\n"
          ],
          "name": "stdout"
        }
      ]
    },
    {
      "cell_type": "code",
      "metadata": {
        "colab": {
          "base_uri": "https://localhost:8080/"
        },
        "id": "_cPvkIyTsaXb",
        "outputId": "2777e25c-2cb8-40b6-b99f-f773fa769eff"
      },
      "source": [
        "torch.mm(a,b)"
      ],
      "execution_count": null,
      "outputs": [
        {
          "output_type": "execute_result",
          "data": {
            "text/plain": [
              "tensor([[56, 62],\n",
              "        [80, 89]])"
            ]
          },
          "metadata": {
            "tags": []
          },
          "execution_count": 61
        }
      ]
    },
    {
      "cell_type": "code",
      "metadata": {
        "colab": {
          "base_uri": "https://localhost:8080/"
        },
        "id": "3fJt8oiysvIb",
        "outputId": "7b2d2211-2e75-4101-f281-d248b42c30e6"
      },
      "source": [
        "a @ b"
      ],
      "execution_count": null,
      "outputs": [
        {
          "output_type": "execute_result",
          "data": {
            "text/plain": [
              "tensor([[56, 62],\n",
              "        [80, 89]])"
            ]
          },
          "metadata": {
            "tags": []
          },
          "execution_count": 62
        }
      ]
    },
    {
      "cell_type": "code",
      "metadata": {
        "colab": {
          "base_uri": "https://localhost:8080/"
        },
        "id": "2w6IGEyHsyWU",
        "outputId": "0ee5f8c8-5570-4dc8-b791-364963542742"
      },
      "source": [
        "# euclidean norm\n",
        "x = torch.arange(1,4, dtype=torch.float32)\n",
        "print(x)\n",
        "print(x.norm())"
      ],
      "execution_count": null,
      "outputs": [
        {
          "output_type": "stream",
          "text": [
            "tensor([1., 2., 3.])\n",
            "tensor(3.7417)\n"
          ],
          "name": "stdout"
        }
      ]
    },
    {
      "cell_type": "code",
      "metadata": {
        "colab": {
          "base_uri": "https://localhost:8080/"
        },
        "id": "XbUZy3GEtPbI",
        "outputId": "90651d83-0d0a-44d7-d030-2f253095c3eb"
      },
      "source": [
        "# return the number of elements\n",
        "print(x.numel())"
      ],
      "execution_count": null,
      "outputs": [
        {
          "output_type": "stream",
          "text": [
            "3\n"
          ],
          "name": "stdout"
        }
      ]
    }
  ]
}